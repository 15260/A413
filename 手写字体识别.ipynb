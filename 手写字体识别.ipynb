{
 "cells": [
  {
   "cell_type": "code",
   "execution_count": 1,
   "id": "030c49c6-6a0d-4a93-aeb9-8f70b9a11a85",
   "metadata": {},
   "outputs": [],
   "source": [
    "#加载必要的库\n",
    "import torch\n",
    "import torch.nn as nn\n",
    "import torch.nn.functional as F\n",
    "import torch.optim as optim\n",
    "from torchvision  import datasets, transforms"
   ]
  },
  {
   "cell_type": "code",
   "execution_count": 2,
   "id": "4ce2c6a2-30ac-47d8-8fc3-3120cf886a09",
   "metadata": {},
   "outputs": [],
   "source": [
    "#定义超参数\n",
    "BATCH_SIZE = 32 #每批处理的数据\n",
    "DEVICE = torch.device(\"cuda\" if torch.cuda.is_available() else \"cpu\" ) #是否用GPU还是CPU训练\n",
    "EPOCHS = 10 #进行10轮训练数据集"
   ]
  },
  {
   "cell_type": "code",
   "execution_count": 3,
   "id": "e326cd1f-94ca-4797-b3f6-ff1981a2d362",
   "metadata": {},
   "outputs": [],
   "source": [
    "#构建pipeline，对图像做处理\n",
    "pipeline = transforms.Compose([\n",
    "    transforms.ToTensor(),# 将图片转化成tensor\n",
    "    transforms.Normalize((0.1307,),(0.3081,)) # 正则化：降低模型复杂度\n",
    "])"
   ]
  },
  {
   "cell_type": "code",
   "execution_count": 4,
   "id": "97e0b4b6-54cc-4005-9d0c-6b5bc82f4a18",
   "metadata": {},
   "outputs": [],
   "source": [
    "#下载。加载数据\n",
    "from torch.utils.data import DataLoader\n",
    "#下载数据集\n",
    "train_set = datasets.MNIST(\"data\",train=True,download=True,transform=pipeline)\n",
    "test_set = datasets.MNIST(\"data\",train=True,download=True,transform=pipeline)\n",
    "#加载数据\n",
    "train_loader = DataLoader(train_set,batch_size=BATCH_SIZE,shuffle=True) # 打乱图片，提高精确度\n",
    "test_loader = DataLoader(test_set,batch_size=BATCH_SIZE,shuffle=True)\n"
   ]
  },
  {
   "cell_type": "code",
   "execution_count": 5,
   "id": "f0a6b5d7-a128-4c5e-8a87-a57ee80f5596",
   "metadata": {},
   "outputs": [],
   "source": [
    "#构建网络模型\n",
    "class CNN(nn.Module):\n",
    "    def __init__(self):\n",
    "        super(CNN,self).__init__()\n",
    "        # 定义卷积层\n",
    "        self.conv1 = nn.Conv2d(1 , 10 , 5) # 1为灰度图片的通道，10 为输出通道，5 为卷积核kernel\n",
    "        self.conv2 = nn.Conv2d(10 , 20 ,3)\n",
    "        #定义全连接层\n",
    "        self.fc1 = nn.Linear(20*10*10,500)\n",
    "        self.fc2 = nn.Linear(500 ,10) \n",
    "   # 前向传播\n",
    "    def forward(self,x):\n",
    "        input_size = x.size(0) # 只拿batch_size\n",
    "        \n",
    "        x = self.conv1(x) # 输入：batch*1*28*28，输出：batch*10*24*24\n",
    "        x = F.relu(x) #让表达能力更强,保持shape不变\n",
    "        x = F.max_pool2d(x, 2, 2) #运用最大池化层，找到关键信息 提升运算速率 2*2kernel 输出：batch*10*12*12\n",
    "        \n",
    "        x = self.conv2(x) #输出：batch*20*10*10\n",
    "        x = F.relu(x)\n",
    "        x = x.view(input_size,-1) # 将图片的立体模型拉平，-1自动计算维度，2000\n",
    "        x = self.fc1(x) # 输入：batch*2000  输出：batch*500\n",
    "        x = F.relu(x)# 激活函数，保持shape不变\n",
    "        x = self.fc2(x) #输入：batch*500  输出：batch*10\n",
    "        output = F.log_softmax(x,dim=1) # 返回最适配模型概率，softmax损失函数 按行来计算，,取log值 ：计算分类后，每个数字的概率值\n",
    "        return output"
   ]
  },
  {
   "cell_type": "code",
   "execution_count": 6,
   "id": "4a8f93fb-9a52-4fd9-90a7-353a9dd37d68",
   "metadata": {},
   "outputs": [],
   "source": [
    "#定义优化器\n",
    "model = CNN().to(DEVICE)\n",
    "optimizer = optim.Adam(model.parameters())"
   ]
  },
  {
   "cell_type": "code",
   "execution_count": 7,
   "id": "0e993375-a42a-4909-9c9e-1202fc963375",
   "metadata": {},
   "outputs": [],
   "source": [
    "#创建模型，定义训练函数\n",
    "def train_model(model,device,train_loader,optimizer,epoch):\n",
    "    # 模型训练\n",
    "    model.train()\n",
    "    for batch_index,(data,target) in enumerate(train_loader):\n",
    "        # 部署到DEVICE上\n",
    "        data,traget = data.to(device),target.to(device)\n",
    "        # 梯度初始化为0\n",
    "        optimizer.zero_grad()\n",
    "        # 训练结果\n",
    "        output = model(data)\n",
    "        # 计算损失，累计差距\n",
    "        loss = F.cross_entropy(output, target) #交叉熵损失，处理多分类问题\n",
    "        # 找到概率值最大的下标\n",
    "        pred = output.max(1,keepdim=True) # 1：横轴，也可写成pred = output.argmax(dim=1)\n",
    "        # 反向传播\n",
    "        loss.backward()\n",
    "        optimizer.step()\n",
    "        if batch_index % 3000 == 0:\n",
    "            print(\"Train Epoch : {} \\t Loss :{:.6f}\".format(epoch, loss.item()))\n",
    "    \n"
   ]
  },
  {
   "cell_type": "code",
   "execution_count": 8,
   "id": "6b8d282f-f857-4144-a2db-7b608a577be9",
   "metadata": {},
   "outputs": [],
   "source": [
    "#定义测试方法\n",
    "def test_model(model,device,test_loader):\n",
    "    # 模型验证\n",
    "    model.eval()\n",
    "    #正确率\n",
    "    correct = 0.0\n",
    "    # 测试损失\n",
    "    test_loss = 0.0\n",
    "    with torch.no_grad(): # 不会计算梯度，也不会进行反向传播\n",
    "        for data,target in test_loader:\n",
    "            # 部署到device上\n",
    "            data,target = data.to(device),target.to(device)\n",
    "            # 测试数据\n",
    "            output = model(data)\n",
    "            # 计算测试损失\n",
    "            test_loss +=F.cross_entropy(output,target).item()\n",
    "            # 找到概率最大的下标\n",
    "            pred = output.max(1,keepdim=True)[1] # 找到：值 索引\n",
    "            # 累计正确的值\n",
    "            correct +=pred.eq(target.view_as(pred)).sum().item()\n",
    "        test_loss /= len(test_loader.dataset)\n",
    "        print(\"Test_Average loss : {:.4f},Accuracy : {:.3f}\\n\".format(\n",
    "            test_loss,100.0*correct / len(test_loader.dataset)))\n",
    "            \n",
    "    "
   ]
  },
  {
   "cell_type": "code",
   "execution_count": null,
   "id": "78d3a21b-7519-4aaa-9d02-74459a26ef6f",
   "metadata": {},
   "outputs": [
    {
     "name": "stdout",
     "output_type": "stream",
     "text": [
      "Train Epoch : 1 \t Loss :2.308388\n",
      "Test_Average loss : 0.0015,Accuracy : 98.533\n",
      "\n",
      "Train Epoch : 2 \t Loss :0.174327\n",
      "Test_Average loss : 0.0010,Accuracy : 99.048\n",
      "\n",
      "Train Epoch : 3 \t Loss :0.004843\n"
     ]
    }
   ],
   "source": [
    "#调用方法\n",
    "for epoch in range(1,EPOCHS+1):\n",
    "    train_model(model,DEVICE,train_loader,optimizer,epoch)\n",
    "    test_model(model,DEVICE,test_loader)"
   ]
  }
 ],
 "metadata": {
  "kernelspec": {
   "display_name": "edu",
   "language": "python",
   "name": "edu"
  },
  "language_info": {
   "codemirror_mode": {
    "name": "ipython",
    "version": 3
   },
   "file_extension": ".py",
   "mimetype": "text/x-python",
   "name": "python",
   "nbconvert_exporter": "python",
   "pygments_lexer": "ipython3",
   "version": "3.10.13"
  }
 },
 "nbformat": 4,
 "nbformat_minor": 5
}
